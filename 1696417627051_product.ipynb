{
 "cells": [
  {
   "cell_type": "markdown",
   "metadata": {},
   "source": [
    "import pandas as pd\n",
    "\n",
    "# Load the sales data (replace ‘sales_data.csv’ with your file path)\n",
    "\n",
    "sales_data = pd.read_csv(‘sales_data.csv’)\n",
    "\n",
    "# Convert date column to datetime\n",
    "\n",
    "sales_data\\[‘Date’\\] = pd.to_datetime(sales_data\\[‘Date’\\])\n",
    "\n",
    "# Aggregate sales by product\n",
    "\n",
    "product_sales =\n",
    "sales_data.groupby(‘Product’)\\[‘Sales’\\].sum().reset_index()\n",
    "\n",
    "# Aggregate sales by month\n",
    "\n",
    "monthly_sales = sales_data.resample(‘M’,\n",
    "on=‘Date’)\\[‘Sales’\\].sum().reset_index()\n",
    "\n",
    "# Perform customer segmentation (you may need to define segmentation criteria)\n",
    "\n",
    "# Example: Create segments based on purchase frequency\n",
    "\n",
    "customer_segmentation =\n",
    "pd.cut(sales_data.groupby(‘Customer’)\\[‘Date’\\].count(), bins=\\[0, 5,\n",
    "10, 20, float(‘inf’)\\], labels=\\[‘Low’, ‘Medium’, ‘High’, ‘Very High’\\])\n",
    "\n",
    "# Export the preprocessed data to a new CSV file for use in IBM Cognos\n",
    "\n",
    "product_sales.to_csv(‘product_sales.csv’, index=False)\n",
    "monthly_sales.to_csv(‘monthly_sales.csv’, index=False)\n",
    "customer_segmentation.to_csv(‘customer_segmentation.csv’)"
   ],
   "id": "42a14256-91c8-446e-92a7-ab6bf11055d3"
  }
 ],
 "nbformat": 4,
 "nbformat_minor": 5,
 "metadata": {}
}
